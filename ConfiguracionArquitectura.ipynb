{
 "cells": [
  {
   "cell_type": "markdown",
   "metadata": {},
   "source": [
    "# Configuración para la arquitectura del proyecto"
   ]
  },
  {
   "cell_type": "markdown",
   "metadata": {},
   "source": [
    "## Collection de Amazon Rekognition"
   ]
  },
  {
   "cell_type": "markdown",
   "metadata": {},
   "source": [
    "Primero se crea una coleccion en amazon rekognition para almacenar la cara de las personas que serán identificadas posteriormente, amazon solo comparara las imagenes entrantes al sistema contra aquellas almacenadas en la collection "
   ]
  },
  {
   "cell_type": "code",
   "execution_count": null,
   "metadata": {},
   "outputs": [],
   "source": [
    "import boto3\n",
    "\n",
    "# La función create_collection, crea la collection \n",
    "# recibe el nombre de la collection que se desea crear \n",
    "\n",
    "def create_collection(collection_id):\n",
    "\n",
    "    #Se hace el llamdo al cliente de amazon rekognition \n",
    "    client=boto3.client('rekognition')\n",
    "\n",
    "    #Creación de la collection\n",
    "    response=client.create_collection(CollectionId=collection_id)\n",
    "    print('Collection ' + collection_id + ' creada')\n",
    "    \n",
    "def main():\n",
    "    collection_id='collection-rekognition'\n",
    "    create_collection(collection_id)\n",
    "\n",
    "if __name__ == \"__main__\":\n",
    "    main()  "
   ]
  },
  {
   "cell_type": "markdown",
   "metadata": {},
   "source": [
    "Se añaden las caras a la collection, se da el path del local o el bucket donde se encuentran las imagenes que se desean agregar a la collection, principalmente estas imagenes tendran un faceId, ImageID y externalImageID, en la collection"
   ]
  },
  {
   "cell_type": "code",
   "execution_count": null,
   "metadata": {},
   "outputs": [],
   "source": [
    "import boto3\n",
    "import os\n",
    "\n",
    "#En este caso agregamos las imagenes desde el path del local \n",
    "path =r'C:\\Users\\user\\Desktop\\collection'\n",
    "fpath = os.listdir(path)\n",
    "\n",
    "diccionario = {}\n",
    "\n",
    "#la funcion  add_faces_to_collection añade una cara a la collection\n",
    "#recibe como parametro la imagen, el nombre de la imagen, la collection_id \n",
    "#donde se desea agregar la cara y la region de aws\n",
    "\n",
    "def add_faces_to_collection(target_file, photo, collection_id, region):\n",
    "    # Se llama al cliente de rekognition en la region indicada \n",
    "    client = boto3.client('rekognition', region_name=region)\n",
    "\n",
    "    #Abrimos la imagen \n",
    "    imageTarget = open(target_file, 'rb')\n",
    "    \n",
    "    # con la funcion index_faces agregamos la imagen en bytes a la collection indicada\n",
    "    response = client.index_faces(CollectionId=collection_id,\n",
    "        Image={'Bytes': imageTarget.read()},\n",
    "        ExternalImageId=photo,\n",
    "        MaxFaces=1,\n",
    "        QualityFilter=\"AUTO\")\n",
    "    \n",
    "\n",
    "    #Creamos un diccionario con el FaceId de la persona indexada y valor de path de imagen\n",
    "    diccionario[response['FaceRecords'][0]['Face']['FaceId']] = images\n",
    "    \n",
    "# se crea una dos ciclos for para recorrer el path del local y cada directorio en el, donde se encuentran las imagenes\n",
    "for folder in fpath:\n",
    "    path_folders =  path +'\\\\' + folder\n",
    "    fpath_folders = os.listdir(path_folders)\n",
    "    for images in fpath_folders:\n",
    "        image = r''+path + '\\\\'+ folder + '\\\\'+ images\n",
    "        collection_id = 'collection-rekognition'\n",
    "        photo_name = folder\n",
    "        region = \"us-east-1\"\n",
    "                                        \n",
    "        indexed_faces_count = add_faces_to_collection(image, photo_name, collection_id, region)\n",
    "\n",
    "print(\"Se agregaron correctamente todas las imagenes\")"
   ]
  },
  {
   "cell_type": "markdown",
   "metadata": {},
   "source": [
    "Se realiza una descripcion de la collection y así verificar que fueron bien suubidas las imagenes "
   ]
  },
  {
   "cell_type": "code",
   "execution_count": null,
   "metadata": {},
   "outputs": [],
   "source": [
    "import boto3\n",
    "from botocore.exceptions import ClientError\n",
    "\n",
    "# La función describe_collection permite tener la información de la collection\n",
    "# recibe como parametro el nombre de la collection \n",
    "def describe_collection(collection_id):\n",
    "    #Se hace el llamdo al cliente de rekognition\n",
    "    client=boto3.client('rekognition')\n",
    "\n",
    "    try:\n",
    "        #La funcion describe_collection retorna un json con la información de la collection\n",
    "        #imrpimimos aquella informacion que nos interese\n",
    "        response=client.describe_collection(CollectionId=collection_id)\n",
    "        print(\"Collection Arn: \"  + response['CollectionARN'])\n",
    "        print(\"Face Count: \"  + str(response['FaceCount']))\n",
    "        print(\"Face Model Version: \"  + response['FaceModelVersion'])\n",
    "        print(\"Timestamp: \"  + str(response['CreationTimestamp']))\n",
    "\n",
    "        # En dado caso que la collection no exista saldra un mensaje de error\n",
    "    except ClientError as e:\n",
    "        if e.response['Error']['Code'] == 'ResourceNotFoundException':\n",
    "            print ('The collection ' + collection_id + ' was not found ')\n",
    "        else:\n",
    "            print ('Error other than Not Found occurred: ' + e.response['Error']['Message'])\n",
    "    print('Done...')\n",
    "\n",
    "\n",
    "def main():\n",
    "    collection_id='collection-rekognition'\n",
    "    describe_collection(collection_id)\n",
    "\n",
    "if __name__ == \"__main__\":\n",
    "    main()"
   ]
  },
  {
   "cell_type": "markdown",
   "metadata": {},
   "source": [
    "Las caras en la collection se guardan en un formato json, puede ser de interes consultar la informacion de estas caras en la collection "
   ]
  },
  {
   "cell_type": "code",
   "execution_count": null,
   "metadata": {},
   "outputs": [],
   "source": [
    "import boto3\n",
    "\n",
    "lista = []\n",
    "\n",
    "# la funcion list_faces_in_collection retorna una lista con la información de cada\n",
    "# cara en la collection\n",
    "#  \n",
    "def list_faces_in_collection(collection_id):\n",
    "\n",
    "\n",
    "    maxResults=1\n",
    "    faces_count=0\n",
    "    tokens=True\n",
    "\n",
    "    # se invoca el cliente de amazon rekognition\n",
    "    client=boto3.client('rekognition')\n",
    "    \n",
    "    # la funcion list_faces retorna una lista de todos los json de las caras en la collection\n",
    "    response=client.list_faces(CollectionId=collection_id,\n",
    "                               MaxResults=maxResults)\n",
    "\n",
    "    # creamos un ciclo para recorrer la lista de los json \n",
    "    while tokens:\n",
    "\n",
    "        list1 = []\n",
    "        faces=response['Faces']\n",
    "\n",
    "        # A cada face en la collection, extraeremos los datos de FaceId, ImageId\n",
    "        # ExternalImageId y los agregamos a una lista \n",
    "        for face in faces:\n",
    "            list1.append(face['FaceId'])\n",
    "            list1.append(face['ImageId'])\n",
    "            list1.append(face['ExternalImageId'])\n",
    "            lista.append(list1)\n",
    "            list1.clear\n",
    "\n",
    "            faces_count+=1\n",
    "        if 'NextToken' in response:\n",
    "            nextToken=response['NextToken']\n",
    "\n",
    "            response=client.list_faces(CollectionId=collection_id,\n",
    "                                       NextToken=nextToken,MaxResults=maxResults)\n",
    "        else:\n",
    "            tokens=False\n",
    "    return faces_count   \n",
    "def main():\n",
    "\n",
    "    collection_id='collection-rekognition'\n",
    "    faces_count=list_faces_in_collection(collection_id)\n",
    "    print(\"faces count: \" + str(faces_count))\n",
    "    \n",
    "if __name__ == \"__main__\":\n",
    "    main()"
   ]
  },
  {
   "cell_type": "markdown",
   "metadata": {},
   "source": [
    "## DynamoDB"
   ]
  },
  {
   "cell_type": "markdown",
   "metadata": {},
   "source": [
    "Creamos una tabla en dynamoDB que nos permite almacenar la información de las personas agregadas en la collection, para ello se toma como primary_key el faceId de cada persona en la collection"
   ]
  },
  {
   "cell_type": "code",
   "execution_count": null,
   "metadata": {},
   "outputs": [],
   "source": [
    "from pprint import pprint\n",
    "import boto3\n",
    "\n",
    "# la función create_dynamodb_table crea la base de datos en dynamoDb \n",
    "# la cual recibe como parametro el nombre de la tabla y la region de aws\n",
    "\n",
    "# Create DynamoDB database with image URL and face data, face ID\n",
    "def create_dynamodb_table(table_name, region):\n",
    "    # se llama al cliente de dynamoDb\n",
    "    dynamodb = boto3.client(\"dynamodb\", region_name=region)\n",
    "\n",
    "    # la funcion create_table, crea la tabla con primary_key igual al faceId \n",
    "    table = dynamodb.create_table(\n",
    "        TableName=table_name,   \n",
    "        KeySchema=[{\n",
    "                'AttributeName': 'FaceID', 'KeyType': 'HASH'  # Partition key  \n",
    "                },],        \n",
    "            AttributeDefinitions=[\n",
    "            {\n",
    "                'AttributeName': 'FaceID', 'AttributeType': 'S'  }, ],        \n",
    "                ProvisionedThroughput={\n",
    "            'ReadCapacityUnits': 10, 'WriteCapacityUnits': 10  }\n",
    "    )\n",
    "    pprint(table)\n",
    "    return table\n",
    "\n",
    "region = \"us-east-1\"\n",
    "database_name = 'dataset-collection-images'\n",
    "dynamodb_table = create_dynamodb_table(database_name, region)\n",
    "print(\"Table status:\", dynamodb_table)"
   ]
  },
  {
   "cell_type": "markdown",
   "metadata": {},
   "source": [
    "Es una buena práctica las imagenes que agregamos a la collection tenerlas en un bucket de s3, por si en algun momento se requiere visualizar y tener el archivo .jpg de las personas en la collection"
   ]
  },
  {
   "cell_type": "code",
   "execution_count": null,
   "metadata": {},
   "outputs": [],
   "source": [
    "import boto3\n",
    "import logging\n",
    "from botocore.exceptions import ClientError\n",
    "\n",
    "# se recorre el path del local y los directorios donde estan las imagenes en dos ciclos \n",
    "# para subir imagen por imagen al bucket de s3\n",
    "for folder in fpath:\n",
    "    path_folders =  path +'\\\\' + folder\n",
    "    fpath_folders = os.listdir(path_folders)\n",
    "    for images in fpath_folders:\n",
    "        file_name = r''+path + '\\\\'+ folder + '\\\\'+ images\n",
    "        # store local file in S3 bucket\n",
    "        bucket = \"prueba-bucket-machine\"\n",
    "        key_name = folder+'/'+ images\n",
    "        region = \"us-east-1\"\n",
    "\n",
    "        # se llama al cliente de s3 \n",
    "        s3 = boto3.client('s3', region_name=region)\n",
    "        # Upload the file\n",
    "        try:\n",
    "            #La función upload_file actualiza y sube la imagen al bucket\n",
    "            response = s3.upload_file(file_name, bucket, key_name)\n",
    "        except ClientError as e:\n",
    "            logging.error(e)\n",
    "            \n",
    "print(\"se logro subir correctamente las imagenes al bucket\")"
   ]
  },
  {
   "cell_type": "markdown",
   "metadata": {},
   "source": [
    "Se crea un código que permita obtener todos los objetos del bucket y ponerlos en una lista "
   ]
  },
  {
   "cell_type": "code",
   "execution_count": null,
   "metadata": {},
   "outputs": [],
   "source": [
    "# se invoca el servicio de amazon s3\n",
    "client = boto3.client('s3')\n",
    "\n",
    "# nombre del bucket\n",
    "bucketName = \"prueba-bucket-machine\"\n",
    "\n",
    "keys = []\n",
    "\n",
    "# la funcion list_objects retorna un json con todos los objetos en el bucket\n",
    "response = client.list_objects(\n",
    "            Bucket=bucketName,\n",
    "            MaxKeys=123,\n",
    "        )\n",
    "# recorremos cada uno de estos paths y los agregamos a una lista\n",
    "for key in response['Contents']:\n",
    "    keys.append(key['Key'])\n",
    "\n",
    "print(\"Se agregaron los paths de los objetos a una lista\")"
   ]
  },
  {
   "cell_type": "markdown",
   "metadata": {},
   "source": [
    "Agregar los datos de las caras de la collection a dynamodb y agregar la url de las imagenes de s3 como una etiqueta en dynamodb "
   ]
  },
  {
   "cell_type": "code",
   "execution_count": null,
   "metadata": {},
   "outputs": [],
   "source": [
    "import boto3\n",
    "from pprint import pprint\n",
    "from decimal import Decimal\n",
    "import json\n",
    "#Nombre del bucket donde se encuentran las imagenes\n",
    "bucket = \"prueba-bucket-machine\"\n",
    "\n",
    "# la lista creada en la descripcion de las caras en la collection y los paths en la lista keys se recorren\n",
    "# y se emparejan los faceId de cada cara con la imagen en el bucket\n",
    "for item in lista:\n",
    "    for key in keys:\n",
    "        #sabemos que en ambas lista coincide el nombre de la carpeta en el bucket con el ExternalImageId de lista\n",
    "        list = key.split('/')\n",
    "        if list[0]==item[2]:\n",
    "            # The local file that was stored in S3 bucket\n",
    "            file_name = '/'+ diccionario[item[0]]\n",
    "            key_name = key\n",
    "            region = \"us-east-1\"\n",
    "            # Get URL of file\n",
    "            file_url = \"https://s3.amazonaws.com/{}/{}\".format(bucket, key_name)\n",
    "\n",
    "            # upload face-id, face info, and image url\n",
    "            def AddDBEntry(name, file_url, face_id, image_id,status):\n",
    "                #se invoca el servicio de dynamoDb\n",
    "                dynamodb = boto3.resource('dynamodb', region_name=region)\n",
    "                #se da el nombre de la tabla creada\n",
    "                table = dynamodb.Table('dataset-collection-images')\n",
    "                # Se lanza el item o el dato de cada persona en la collection \n",
    "                response = table.put_item(\n",
    "                Item={\n",
    "                        'ExternalImageID': name,\n",
    "                        'ImageURL': file_url,\n",
    "                        'FaceID': face_id,\n",
    "                        'ImageID': image_id, \n",
    "                        'status': status\n",
    "                }\n",
    "                )\n",
    "                return response\n",
    "\n",
    "            # Mock values for face ID, image ID, and confidence - replace them with actual values from your collection results\n",
    "            try:\n",
    "                dynamodb_resp = AddDBEntry(item[2], file_url, item[0],  \n",
    "                item[1],False)\n",
    "            except:\n",
    "                print(\"El usuario ya se encuentra en la tabla\")\n",
    "            \n",
    "print(\"Se agrego exitosamente los datos de la collection a dynamodb\")"
   ]
  }
 ],
 "metadata": {
  "kernelspec": {
   "display_name": "Python 3.9.12 ('base')",
   "language": "python",
   "name": "python3"
  },
  "language_info": {
   "codemirror_mode": {
    "name": "ipython",
    "version": 3
   },
   "file_extension": ".py",
   "mimetype": "text/x-python",
   "name": "python",
   "nbconvert_exporter": "python",
   "pygments_lexer": "ipython3",
   "version": "3.9.12"
  },
  "orig_nbformat": 4,
  "vscode": {
   "interpreter": {
    "hash": "a077222d77dfe082b8f1dd562ad70e458ac2ab76993a0b248ab0476e32e9e8dd"
   }
  }
 },
 "nbformat": 4,
 "nbformat_minor": 2
}
