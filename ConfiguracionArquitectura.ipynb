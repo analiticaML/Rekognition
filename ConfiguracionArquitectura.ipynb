{
 "cells": [
  {
   "cell_type": "markdown",
   "metadata": {},
   "source": [
    "# Configuración para la arquitectura del proyecto"
   ]
  },
  {
   "cell_type": "markdown",
   "metadata": {},
   "source": [
    "## Collection de Amazon Rekognition"
   ]
  },
  {
   "cell_type": "markdown",
   "metadata": {},
   "source": [
    "Primero se crea una coleccion en amazon rekognition para almacenar la cara de las personas que serán identificadas posteriormente, amazon solo comparara las imagenes entrantes al sistema contra aquellas almacenadas en la collection "
   ]
  },
  {
   "cell_type": "code",
   "execution_count": 10,
   "metadata": {},
   "outputs": [
    {
     "name": "stdout",
     "output_type": "stream",
     "text": [
      "Collection collection-epp creada\n"
     ]
    }
   ],
   "source": [
    "import boto3\n",
    "\n",
    "# La función create_collection, crea la collection \n",
    "# recibe el nombre de la collection que se desea crear \n",
    "\n",
    "def create_collection(collection_id):\n",
    "\n",
    "    #Se hace el llamdo al cliente de amazon rekognition \n",
    "    client=boto3.client('rekognition')\n",
    "\n",
    "    #Creación de la collection\n",
    "    response=client.create_collection(CollectionId=collection_id)\n",
    "    print('Collection ' + collection_id + ' creada')\n",
    "    \n",
    "def main():\n",
    "    collection_id='collection-epp'\n",
    "    create_collection(collection_id)\n",
    "\n",
    "if __name__ == \"__main__\":\n",
    "    main()  "
   ]
  },
  {
   "cell_type": "markdown",
   "metadata": {},
   "source": [
    "Se añaden las caras a la collection, se da el path del local o el bucket donde se encuentran las imagenes que se desean agregar a la collection, principalmente estas imagenes tendran un faceId, ImageID y externalImageID, en la collection"
   ]
  },
  {
   "cell_type": "code",
   "execution_count": null,
   "metadata": {},
   "outputs": [],
   "source": [
    "import boto3\n",
    "import os\n",
    "\n",
    "#En este caso agregamos las imagenes desde el path del local \n",
    "path =r'C:\\Users\\user\\Desktop\\collection'\n",
    "fpath = os.listdir(path)\n",
    "\n",
    "diccionario = {}\n",
    "\n",
    "#la funcion  add_faces_to_collection añade una cara a la collection\n",
    "#recibe como parametro la imagen, el nombre de la imagen, la collection_id \n",
    "#donde se desea agregar la cara y la region de aws\n",
    "\n",
    "def add_faces_to_collection(target_file, photo, collection_id, region):\n",
    "    # Se llama al cliente de rekognition en la region indicada \n",
    "    client = boto3.client('rekognition', region_name=region)\n",
    "\n",
    "    #Abrimos la imagen \n",
    "    imageTarget = open(target_file, 'rb')\n",
    "    \n",
    "    # con la funcion index_faces agregamos la imagen en bytes a la collection indicada\n",
    "    response = client.index_faces(CollectionId=collection_id,\n",
    "        Image={'Bytes': imageTarget.read()},\n",
    "        ExternalImageId=photo,\n",
    "        MaxFaces=1,\n",
    "        QualityFilter=\"AUTO\")\n",
    "    \n",
    "\n",
    "    #Creamos un diccionario con el FaceId de la persona indexada y valor de path de imagen\n",
    "    diccionario[response['FaceRecords'][0]['Face']['FaceId']] = images\n",
    "    \n",
    "# se crea una dos ciclos for para recorrer el path del local y cada directorio en el, donde se encuentran las imagenes\n",
    "for folder in fpath:\n",
    "    path_folders =  path +'\\\\' + folder\n",
    "    fpath_folders = os.listdir(path_folders)\n",
    "    for images in fpath_folders:\n",
    "        image = r''+path + '\\\\'+ folder + '\\\\'+ images\n",
    "        collection_id = 'collection-epp'\n",
    "        photo_name = folder\n",
    "        region = \"us-east-1\"\n",
    "                                        \n",
    "        indexed_faces_count = add_faces_to_collection(image, photo_name, collection_id, region)\n",
    "\n",
    "print(\"Se agregaron correctamente todas las imagenes\")"
   ]
  },
  {
   "cell_type": "markdown",
   "metadata": {},
   "source": [
    "Se realiza una descripcion de la collection y así verificar que fueron bien suubidas las imagenes "
   ]
  },
  {
   "cell_type": "code",
   "execution_count": 2,
   "metadata": {},
   "outputs": [
    {
     "name": "stdout",
     "output_type": "stream",
     "text": [
      "Collection Arn: arn:aws:rekognition:us-east-1:853702706419:collection/collection-rekognition\n",
      "Face Count: 15\n",
      "Face Model Version: 6.0\n",
      "Timestamp: 2022-08-10 13:47:28.168000-05:00\n",
      "Done...\n"
     ]
    }
   ],
   "source": [
    "import boto3\n",
    "from botocore.exceptions import ClientError\n",
    "\n",
    "# La función describe_collection permite tener la información de la collection\n",
    "# recibe como parametro el nombre de la collection \n",
    "def describe_collection(collection_id):\n",
    "    #Se hace el llamdo al cliente de rekognition\n",
    "    client=boto3.client('rekognition')\n",
    "\n",
    "    try:\n",
    "        #La funcion describe_collection retorna un json con la información de la collection\n",
    "        #imrpimimos aquella informacion que nos interese\n",
    "        response=client.describe_collection(CollectionId=collection_id)\n",
    "        print(\"Collection Arn: \"  + response['CollectionARN'])\n",
    "        print(\"Face Count: \"  + str(response['FaceCount']))\n",
    "        print(\"Face Model Version: \"  + response['FaceModelVersion'])\n",
    "        print(\"Timestamp: \"  + str(response['CreationTimestamp']))\n",
    "\n",
    "        # En dado caso que la collection no exista saldra un mensaje de error\n",
    "    except ClientError as e:\n",
    "        if e.response['Error']['Code'] == 'ResourceNotFoundException':\n",
    "            print ('The collection ' + collection_id + ' was not found ')\n",
    "        else:\n",
    "            print ('Error other than Not Found occurred: ' + e.response['Error']['Message'])\n",
    "    print('Done...')\n",
    "\n",
    "\n",
    "def main():\n",
    "    collection_id='collection-rekognition'\n",
    "    describe_collection(collection_id)\n",
    "\n",
    "if __name__ == \"__main__\":\n",
    "    main()"
   ]
  },
  {
   "cell_type": "markdown",
   "metadata": {},
   "source": [
    "Las caras en la collection se guardan en un formato json, puede ser de interes consultar la informacion de estas caras en la collection "
   ]
  },
  {
   "cell_type": "code",
   "execution_count": 1,
   "metadata": {},
   "outputs": [
    {
     "name": "stdout",
     "output_type": "stream",
     "text": [
      "faces count: 15\n"
     ]
    }
   ],
   "source": [
    "import boto3\n",
    "\n",
    "lista = []\n",
    "\n",
    "# la funcion list_faces_in_collection retorna una lista con la información de cada\n",
    "# cara en la collection\n",
    "#  \n",
    "def list_faces_in_collection(collection_id):\n",
    "\n",
    "\n",
    "    maxResults=1\n",
    "    faces_count=0\n",
    "    tokens=True\n",
    "\n",
    "    # se invoca el cliente de amazon rekognition\n",
    "    client=boto3.client('rekognition')\n",
    "    \n",
    "    # la funcion list_faces retorna una lista de todos los json de las caras en la collection\n",
    "    response=client.list_faces(CollectionId=collection_id,\n",
    "                               MaxResults=maxResults)\n",
    "\n",
    "    # creamos un ciclo para recorrer la lista de los json \n",
    "    while tokens:\n",
    "\n",
    "        list1 = []\n",
    "        faces=response['Faces']\n",
    "\n",
    "        # A cada face en la collection, extraeremos los datos de FaceId, ImageId\n",
    "        # ExternalImageId y los agregamos a una lista \n",
    "        for face in faces:\n",
    "            list1.append(face['FaceId'])\n",
    "            list1.append(face['ImageId'])\n",
    "            list1.append(face['ExternalImageId'])\n",
    "            lista.append(list1)\n",
    "            list1.clear\n",
    "\n",
    "            faces_count+=1\n",
    "        if 'NextToken' in response:\n",
    "            nextToken=response['NextToken']\n",
    "\n",
    "            response=client.list_faces(CollectionId=collection_id,\n",
    "                                       NextToken=nextToken,MaxResults=maxResults)\n",
    "        else:\n",
    "            tokens=False\n",
    "    return faces_count   \n",
    "def main():\n",
    "\n",
    "    collection_id='collection-rekognition'\n",
    "    faces_count=list_faces_in_collection(collection_id)\n",
    "    print(\"faces count: \" + str(faces_count))\n",
    "    \n",
    "if __name__ == \"__main__\":\n",
    "    main()"
   ]
  },
  {
   "cell_type": "markdown",
   "metadata": {},
   "source": [
    "## DynamoDB"
   ]
  },
  {
   "cell_type": "markdown",
   "metadata": {},
   "source": [
    "Creamos una tabla en dynamoDB que nos permite almacenar la información de las personas agregadas en la collection, para ello se toma como primary_key el faceId de cada persona en la collection"
   ]
  },
  {
   "cell_type": "code",
   "execution_count": null,
   "metadata": {},
   "outputs": [],
   "source": [
    "from pprint import pprint\n",
    "import boto3\n",
    "\n",
    "# la función create_dynamodb_table crea la base de datos en dynamoDb \n",
    "# la cual recibe como parametro el nombre de la tabla y la region de aws\n",
    "\n",
    "# Create DynamoDB database with image URL and face data, face ID\n",
    "def create_dynamodb_table(table_name, region):\n",
    "    # se llama al cliente de dynamoDb\n",
    "    dynamodb = boto3.client(\"dynamodb\", region_name=region)\n",
    "\n",
    "    # la funcion create_table, crea la tabla con primary_key igual al faceId \n",
    "    table = dynamodb.create_table(\n",
    "        TableName=table_name,   \n",
    "        KeySchema=[{\n",
    "                'AttributeName': 'FaceID', 'KeyType': 'HASH'  # Partition key  \n",
    "                },],        \n",
    "            AttributeDefinitions=[\n",
    "            {\n",
    "                'AttributeName': 'FaceID', 'AttributeType': 'S'  }, ],        \n",
    "                ProvisionedThroughput={\n",
    "            'ReadCapacityUnits': 10, 'WriteCapacityUnits': 10  }\n",
    "    )\n",
    "    pprint(table)\n",
    "    return table\n",
    "\n",
    "region = \"us-east-1\"\n",
    "database_name = 'dataset-collection-images'\n",
    "dynamodb_table = create_dynamodb_table(database_name, region)\n",
    "print(\"Table status:\", dynamodb_table)"
   ]
  },
  {
   "cell_type": "markdown",
   "metadata": {},
   "source": [
    "Es una buena práctica las imagenes que agregamos a la collection tenerlas en un bucket de s3, por si en algun momento se requiere visualizar y tener el archivo .jpg de las personas en la collection"
   ]
  },
  {
   "cell_type": "code",
   "execution_count": null,
   "metadata": {},
   "outputs": [],
   "source": [
    "import boto3\n",
    "import logging\n",
    "from botocore.exceptions import ClientError\n",
    "\n",
    "# se recorre el path del local y los directorios donde estan las imagenes en dos ciclos \n",
    "# para subir imagen por imagen al bucket de s3\n",
    "for folder in fpath:\n",
    "    path_folders =  path +'\\\\' + folder\n",
    "    fpath_folders = os.listdir(path_folders)\n",
    "    for images in fpath_folders:\n",
    "        file_name = r''+path + '\\\\'+ folder + '\\\\'+ images\n",
    "        # store local file in S3 bucket\n",
    "        bucket = \"prueba-bucket-machine\"\n",
    "        key_name = folder+'/'+ images\n",
    "        region = \"us-east-1\"\n",
    "\n",
    "        # se llama al cliente de s3 \n",
    "        s3 = boto3.client('s3', region_name=region)\n",
    "        # Upload the file\n",
    "        try:\n",
    "            #La función upload_file actualiza y sube la imagen al bucket\n",
    "            response = s3.upload_file(file_name, bucket, key_name)\n",
    "        except ClientError as e:\n",
    "            logging.error(e)\n",
    "            \n",
    "print(\"se logro subir correctamente las imagenes al bucket\")"
   ]
  },
  {
   "cell_type": "markdown",
   "metadata": {},
   "source": [
    "Se crea un código que permita obtener todos los objetos del bucket y ponerlos en una lista "
   ]
  },
  {
   "cell_type": "code",
   "execution_count": null,
   "metadata": {},
   "outputs": [],
   "source": [
    "# se invoca el servicio de amazon s3\n",
    "client = boto3.client('s3')\n",
    "\n",
    "# nombre del bucket\n",
    "bucketName = \"prueba-bucket-machine\"\n",
    "\n",
    "keys = []\n",
    "\n",
    "# la funcion list_objects retorna un json con todos los objetos en el bucket\n",
    "response = client.list_objects(\n",
    "            Bucket=bucketName,\n",
    "            MaxKeys=123,\n",
    "        )\n",
    "# recorremos cada uno de estos paths y los agregamos a una lista\n",
    "for key in response['Contents']:\n",
    "    keys.append(key['Key'])\n",
    "\n",
    "print(\"Se agregaron los paths de los objetos a una lista\")"
   ]
  },
  {
   "cell_type": "markdown",
   "metadata": {},
   "source": [
    "Agregar los datos de las caras de la collection a dynamodb y agregar la url de las imagenes de s3 como una etiqueta en dynamodb "
   ]
  },
  {
   "cell_type": "code",
   "execution_count": null,
   "metadata": {},
   "outputs": [],
   "source": [
    "import boto3\n",
    "from pprint import pprint\n",
    "from decimal import Decimal\n",
    "import json\n",
    "#Nombre del bucket donde se encuentran las imagenes\n",
    "bucket = \"prueba-bucket-machine\"\n",
    "\n",
    "# la lista creada en la descripcion de las caras en la collection y los paths en la lista keys se recorren\n",
    "# y se emparejan los faceId de cada cara con la imagen en el bucket\n",
    "for item in lista:\n",
    "    for key in keys:\n",
    "        #sabemos que en ambas lista coincide el nombre de la carpeta en el bucket con el ExternalImageId de lista\n",
    "        list = key.split('/')\n",
    "        if list[0]==item[2]:\n",
    "            # The local file that was stored in S3 bucket\n",
    "            file_name = '/'+ diccionario[item[0]]\n",
    "            key_name = key\n",
    "            region = \"us-east-1\"\n",
    "            # Get URL of file\n",
    "            file_url = \"https://s3.amazonaws.com/{}/{}\".format(bucket, key_name)\n",
    "\n",
    "            # upload face-id, face info, and image url\n",
    "            def AddDBEntry(name, file_url, face_id, image_id,status):\n",
    "                #se invoca el servicio de dynamoDb\n",
    "                dynamodb = boto3.resource('dynamodb', region_name=region)\n",
    "                #se da el nombre de la tabla creada\n",
    "                table = dynamodb.Table('dataset-collection-images')\n",
    "                # Se lanza el item o el dato de cada persona en la collection \n",
    "                response = table.put_item(\n",
    "                Item={\n",
    "                        'ExternalImageID': name,\n",
    "                        'ImageURL': file_url,\n",
    "                        'FaceID': face_id,\n",
    "                        'ImageID': image_id, \n",
    "                        'status': status\n",
    "                }\n",
    "                )\n",
    "                return response\n",
    "\n",
    "            # Mock values for face ID, image ID, and confidence - replace them with actual values from your collection results\n",
    "            try:\n",
    "                dynamodb_resp = AddDBEntry(item[2], file_url, item[0],  \n",
    "                item[1],False)\n",
    "            except:\n",
    "                print(\"El usuario ya se encuentra en la tabla\")\n",
    "            \n",
    "print(\"Se agrego exitosamente los datos de la collection a dynamodb\")"
   ]
  },
  {
   "cell_type": "markdown",
   "metadata": {},
   "source": [
    "Creamos una segunda tabla en dynamo db la cual tendra la asistencia y datos personales de cada una de las personas en la collection "
   ]
  },
  {
   "cell_type": "code",
   "execution_count": 1,
   "metadata": {},
   "outputs": [
    {
     "name": "stdout",
     "output_type": "stream",
     "text": [
      "{'ResponseMetadata': {'HTTPHeaders': {'connection': 'keep-alive',\n",
      "                                      'content-length': '524',\n",
      "                                      'content-type': 'application/x-amz-json-1.0',\n",
      "                                      'date': 'Wed, 17 Aug 2022 15:32:11 GMT',\n",
      "                                      'server': 'Server',\n",
      "                                      'x-amz-crc32': '4126457422',\n",
      "                                      'x-amzn-requestid': 'U3QH85CAQQFJQ00VRABQ1FFLTBVV4KQNSO5AEMVJF66Q9ASUAAJG'},\n",
      "                      'HTTPStatusCode': 200,\n",
      "                      'RequestId': 'U3QH85CAQQFJQ00VRABQ1FFLTBVV4KQNSO5AEMVJF66Q9ASUAAJG',\n",
      "                      'RetryAttempts': 0},\n",
      " 'TableDescription': {'AttributeDefinitions': [{'AttributeName': 'Nombre',\n",
      "                                                'AttributeType': 'S'}],\n",
      "                      'CreationDateTime': datetime.datetime(2022, 8, 17, 10, 32, 11, 403000, tzinfo=tzlocal()),\n",
      "                      'ItemCount': 0,\n",
      "                      'KeySchema': [{'AttributeName': 'Nombre',\n",
      "                                     'KeyType': 'HASH'}],\n",
      "                      'ProvisionedThroughput': {'NumberOfDecreasesToday': 0,\n",
      "                                                'ReadCapacityUnits': 10,\n",
      "                                                'WriteCapacityUnits': 10},\n",
      "                      'TableArn': 'arn:aws:dynamodb:us-east-1:853702706419:table/dataset-collection-personal',\n",
      "                      'TableId': '87738407-5b0d-41cd-bdca-b48068a74da1',\n",
      "                      'TableName': 'dataset-collection-personal',\n",
      "                      'TableSizeBytes': 0,\n",
      "                      'TableStatus': 'CREATING'}}\n",
      "Table status: {'TableDescription': {'AttributeDefinitions': [{'AttributeName': 'Nombre', 'AttributeType': 'S'}], 'TableName': 'dataset-collection-personal', 'KeySchema': [{'AttributeName': 'Nombre', 'KeyType': 'HASH'}], 'TableStatus': 'CREATING', 'CreationDateTime': datetime.datetime(2022, 8, 17, 10, 32, 11, 403000, tzinfo=tzlocal()), 'ProvisionedThroughput': {'NumberOfDecreasesToday': 0, 'ReadCapacityUnits': 10, 'WriteCapacityUnits': 10}, 'TableSizeBytes': 0, 'ItemCount': 0, 'TableArn': 'arn:aws:dynamodb:us-east-1:853702706419:table/dataset-collection-personal', 'TableId': '87738407-5b0d-41cd-bdca-b48068a74da1'}, 'ResponseMetadata': {'RequestId': 'U3QH85CAQQFJQ00VRABQ1FFLTBVV4KQNSO5AEMVJF66Q9ASUAAJG', 'HTTPStatusCode': 200, 'HTTPHeaders': {'server': 'Server', 'date': 'Wed, 17 Aug 2022 15:32:11 GMT', 'content-type': 'application/x-amz-json-1.0', 'content-length': '524', 'connection': 'keep-alive', 'x-amzn-requestid': 'U3QH85CAQQFJQ00VRABQ1FFLTBVV4KQNSO5AEMVJF66Q9ASUAAJG', 'x-amz-crc32': '4126457422'}, 'RetryAttempts': 0}}\n"
     ]
    }
   ],
   "source": [
    "from pprint import pprint\n",
    "import boto3\n",
    "\n",
    "# la función create_dynamodb_table crea la base de datos en dynamoDb \n",
    "# la cual recibe como parametro el nombre de la tabla y la region de aws\n",
    "\n",
    "def create_dynamodb_table(table_name, region):\n",
    "    # se llama al cliente de dynamoDb\n",
    "    dynamodb = boto3.client(\"dynamodb\", region_name=region)\n",
    "\n",
    "    # la funcion create_table, crea la tabla con primary_key igual al Nombre\n",
    "    table = dynamodb.create_table(\n",
    "        TableName=table_name,   \n",
    "        KeySchema=[{\n",
    "                'AttributeName': 'Nombre', 'KeyType': 'HASH'  # Partition key  \n",
    "                },],        \n",
    "            AttributeDefinitions=[\n",
    "            {\n",
    "                'AttributeName': 'Nombre', 'AttributeType': 'S'  }, ],        \n",
    "                ProvisionedThroughput={\n",
    "            'ReadCapacityUnits': 10, 'WriteCapacityUnits': 10  }\n",
    "    )\n",
    "    pprint(table)\n",
    "    return table\n",
    "\n",
    "region = \"us-east-1\"\n",
    "database_name = 'dataset-collection-personal'\n",
    "dynamodb_table = create_dynamodb_table(database_name, region)\n",
    "print(\"Table status:\", dynamodb_table)"
   ]
  },
  {
   "cell_type": "markdown",
   "metadata": {},
   "source": [
    "Agregamos el personal a la base de datos del personal"
   ]
  },
  {
   "cell_type": "code",
   "execution_count": 9,
   "metadata": {},
   "outputs": [
    {
     "name": "stdout",
     "output_type": "stream",
     "text": [
      "Se agrego exitosamente los datos de la collection a dynamodb\n"
     ]
    }
   ],
   "source": [
    "import boto3\n",
    "from pprint import pprint\n",
    "from decimal import Decimal\n",
    "import json\n",
    "\n",
    "# upload face-id, face info, and image url\n",
    "def AddDBEntry(name, fecha,hora,status):\n",
    "    #se invoca el servicio de dynamoDb\n",
    "    dynamodb = boto3.resource('dynamodb', region_name=region)\n",
    "    #se da el nombre de la tabla creada\n",
    "    table = dynamodb.Table('dataset-collection-personal')\n",
    "    # Se lanza el item o el dato de cada persona en la collection \n",
    "    response = table.put_item(\n",
    "    Item={\n",
    "        'Nombre': name,\n",
    "        'Fecha': fecha,\n",
    "        'Hora' : hora,\n",
    "        'status': status\n",
    "        }\n",
    "    )\n",
    "    return response\n",
    "# la lista creada en la descripcion de las caras en la collection y los paths en la lista keys se recorren\n",
    "# y se emparejan los faceId de cada cara con la imagen en el bucket\n",
    "personas = []\n",
    "for item in lista:\n",
    "    # Mock values for face ID, image ID, and confidence - replace them with actual values from your collection results\n",
    "    if item[2] not in personas: \n",
    "        personas.append(item[2])\n",
    "        try:\n",
    "            dynamodb_resp = AddDBEntry(item[2], '17-08-2022', '18:25 ',False)\n",
    "        except:\n",
    "            print(\"El usuario ya se encuentra en la tabla\")\n",
    "            \n",
    "print(\"Se agrego exitosamente los datos de la collection a dynamodb\")"
   ]
  },
  {
   "cell_type": "markdown",
   "metadata": {},
   "source": [
    "## EPP"
   ]
  },
  {
   "cell_type": "markdown",
   "metadata": {},
   "source": [
    "creamos la collection para las Epp "
   ]
  },
  {
   "cell_type": "code",
   "execution_count": null,
   "metadata": {},
   "outputs": [],
   "source": [
    "import boto3\n",
    "\n",
    "# La función create_collection, crea la collection \n",
    "# recibe el nombre de la collection que se desea crear \n",
    "\n",
    "def create_collection(collection_id):\n",
    "\n",
    "    #Se hace el llamdo al cliente de amazon rekognition \n",
    "    client=boto3.client('rekognition')\n",
    "\n",
    "    #Creación de la collection\n",
    "    response=client.create_collection(CollectionId=collection_id)\n",
    "    print('Collection ' + collection_id + ' creada')\n",
    "    \n",
    "def main():\n",
    "    collection_id='collection-epp'\n",
    "    create_collection(collection_id)\n",
    "\n",
    "if __name__ == \"__main__\":\n",
    "    main()  "
   ]
  },
  {
   "cell_type": "markdown",
   "metadata": {},
   "source": [
    "Agregamos las personas a la collection, en este caso lo hacemos manual y una imagen por persona en la collecion "
   ]
  },
  {
   "cell_type": "code",
   "execution_count": null,
   "metadata": {},
   "outputs": [],
   "source": [
    "import boto3\n",
    "\n",
    "def add_faces_to_collection(target_file, nombre, collection_id, region):\n",
    "    client = boto3.client('rekognition', region_name=region)\n",
    "\n",
    "    imageTarget = open(target_file, 'rb')\n",
    "\n",
    "    response = client.index_faces(CollectionId=collection_id,\n",
    "                                  Image={'Bytes': imageTarget.read()},\n",
    "                                  ExternalImageId=nombre,\n",
    "                                  MaxFaces=1,\n",
    "                                  QualityFilter=\"AUTO\",\n",
    "                                  DetectionAttributes=['ALL'])\n",
    "\n",
    "    print('Results for ' + nombre)\n",
    "    print('Faces indexed:')\n",
    "    for faceRecord in response['FaceRecords']:\n",
    "        print('  Face ID: ' + faceRecord['Face']['FaceId'])\n",
    "        print('  Location: {}'.format(faceRecord['Face']['BoundingBox']))\n",
    "        print('  Image ID: {}'.format(faceRecord['Face']['ImageId']))\n",
    "        print('  External Image ID: {}'.format(faceRecord['Face']['ExternalImageId']))\n",
    "        print('  Confidence: {}'.format(faceRecord['Face']['Confidence']))\n",
    "\n",
    "    print('Faces not indexed:')\n",
    "    for unindexedFace in response['UnindexedFaces']:\n",
    "        print(' Location: {}'.format(unindexedFace['FaceDetail']['BoundingBox']))\n",
    "        print(' Reasons:')\n",
    "        for reason in unindexedFace['Reasons']:\n",
    "            print('   ' + reason)\n",
    "    return len(response['FaceRecords'])\n",
    "\n",
    "image = r'C:\\Users\\user\\Desktop\\Anibal.jpg'\n",
    "collection_id = 'collection-epp'\n",
    "photo_name = 'Anibal_Gaviria'\n",
    "region = \"us-east-1\"\n",
    "\n",
    "indexed_faces_count = add_faces_to_collection(image, photo_name, collection_id, region)\n",
    "print(\"Faces indexed count: \" + str(indexed_faces_count))"
   ]
  },
  {
   "cell_type": "markdown",
   "metadata": {},
   "source": [
    "Creamos la tabla de dynamodB con la collection de las personas y el faceId de cada persona como identificador en la tabla"
   ]
  },
  {
   "cell_type": "code",
   "execution_count": null,
   "metadata": {},
   "outputs": [],
   "source": [
    "from pprint import pprint\n",
    "import boto3\n",
    "\n",
    "# la función create_dynamodb_table crea la base de datos en dynamoDb \n",
    "# la cual recibe como parametro el nombre de la tabla y la region de aws\n",
    "\n",
    "def create_dynamodb_table(table_name, region):\n",
    "    # se llama al cliente de dynamoDb\n",
    "    dynamodb = boto3.client(\"dynamodb\", region_name=region)\n",
    "\n",
    "    # la funcion create_table, crea la tabla con primary_key igual al Nombre\n",
    "    table = dynamodb.create_table(\n",
    "        TableName=table_name,   \n",
    "        KeySchema=[{\n",
    "                'AttributeName': 'faceId', 'KeyType': 'HASH'  # Partition key  \n",
    "                },],        \n",
    "            AttributeDefinitions=[\n",
    "            {\n",
    "                'AttributeName': 'faceId', 'AttributeType': 'S'  }, ],        \n",
    "                ProvisionedThroughput={\n",
    "            'ReadCapacityUnits': 10, 'WriteCapacityUnits': 10  }\n",
    "    )\n",
    "    pprint(table)\n",
    "    return table\n",
    "\n",
    "region = \"us-east-1\"\n",
    "database_name = 'dataset-collection-epp'\n",
    "dynamodb_table = create_dynamodb_table(database_name, region)\n",
    "print(\"Table status:\", dynamodb_table)"
   ]
  },
  {
   "cell_type": "markdown",
   "metadata": {},
   "source": []
  },
  {
   "cell_type": "code",
   "execution_count": 4,
   "metadata": {},
   "outputs": [
    {
     "name": "stdout",
     "output_type": "stream",
     "text": [
      "faces count: 2\n",
      "[['cbdc9c93-94b6-4b14-90e6-7ecce1d656f0', '02641a6d-3f87-3657-9b73-daf314f316fa', 'Anibal_Gaviria'], ['fc9c0d99-a3d8-4c69-86b1-a4c0a290a7a2', '97ca740d-d263-3f5d-bab3-7550eac1e4dc', 'Daniel_Quintero_Calle']]\n"
     ]
    }
   ],
   "source": [
    "import boto3\n",
    "\n",
    "lista = []\n",
    "\n",
    "# la funcion list_faces_in_collection retorna una lista con la información de cada\n",
    "# cara en la collection\n",
    "#  \n",
    "def list_faces_in_collection(collection_id):\n",
    "\n",
    "\n",
    "    maxResults=1\n",
    "    faces_count=0\n",
    "    tokens=True\n",
    "\n",
    "    # se invoca el cliente de amazon rekognition\n",
    "    client=boto3.client('rekognition')\n",
    "    \n",
    "    # la funcion list_faces retorna una lista de todos los json de las caras en la collection\n",
    "    response=client.list_faces(CollectionId=collection_id,\n",
    "                               MaxResults=maxResults)\n",
    "\n",
    "    # creamos un ciclo para recorrer la lista de los json \n",
    "    while tokens:\n",
    "\n",
    "        list1 = []\n",
    "        faces=response['Faces']\n",
    "\n",
    "        # A cada face en la collection, extraeremos los datos de FaceId, ImageId\n",
    "        # ExternalImageId y los agregamos a una lista \n",
    "        for face in faces:\n",
    "            list1.append(face['FaceId'])\n",
    "            list1.append(face['ImageId'])\n",
    "            list1.append(face['ExternalImageId'])\n",
    "            lista.append(list1)\n",
    "            list1.clear\n",
    "\n",
    "            faces_count+=1\n",
    "        if 'NextToken' in response:\n",
    "            nextToken=response['NextToken']\n",
    "\n",
    "            response=client.list_faces(CollectionId=collection_id,\n",
    "                                       NextToken=nextToken,MaxResults=maxResults)\n",
    "        else:\n",
    "            tokens=False\n",
    "    return faces_count   \n",
    "def main():\n",
    "\n",
    "    collection_id='collection-epp'\n",
    "    faces_count=list_faces_in_collection(collection_id)\n",
    "    print(\"faces count: \" + str(faces_count))\n",
    "    \n",
    "if __name__ == \"__main__\":\n",
    "    main()\n",
    "print(lista)"
   ]
  },
  {
   "cell_type": "markdown",
   "metadata": {},
   "source": [
    "Agregamos las personas de la collection a la base de datos de dynamodB"
   ]
  },
  {
   "cell_type": "code",
   "execution_count": 7,
   "metadata": {},
   "outputs": [
    {
     "name": "stdout",
     "output_type": "stream",
     "text": [
      "Se agrego exitosamente los datos de la collection a dynamodb\n"
     ]
    }
   ],
   "source": [
    "import boto3\n",
    "from pprint import pprint\n",
    "from decimal import Decimal\n",
    "import json\n",
    "\n",
    "# upload face-id, face info, and image url\n",
    "def AddDBEntry(faceId,nombre,casco,guantes,tapabocas,fecha,hora):\n",
    "    #se invoca el servicio de dynamoDb\n",
    "    dynamodb = boto3.resource('dynamodb', region_name=region)\n",
    "    #se da el nombre de la tabla creada\n",
    "    table = dynamodb.Table('dataset-collection-epp')\n",
    "    # Se lanza el item o el dato de cada persona en la collection \n",
    "    response = table.put_item(\n",
    "    Item={\n",
    "        'faceId': faceId,\n",
    "        'Nombre': nombre,\n",
    "        'Casco' : casco,\n",
    "        'Guantes': guantes,\n",
    "        'TapaBocas': tapabocas,\n",
    "        'Fecha': fecha,\n",
    "        'Hora' : hora,\n",
    "        }\n",
    "    )\n",
    "    return response\n",
    "# la lista creada en la descripcion de las caras en la collection y los paths en la lista keys se recorren\n",
    "# y se emparejan los faceId de cada cara con la imagen en el bucket\n",
    "for item in lista:\n",
    "    # Mock values for face ID, image ID, and confidence - replace them with actual values from your collection results\n",
    "    \n",
    "    try:\n",
    "        dynamodb_resp = AddDBEntry(item[0], item[2].replace('_',' '), False,False,False, '2022-08-11' ,'18:25 ')\n",
    "    except:\n",
    "        print(\"El usuario ya se encuentra en la tabla\")\n",
    "            \n",
    "print(\"Se agrego exitosamente los datos de la collection a dynamodb\")"
   ]
  },
  {
   "cell_type": "code",
   "execution_count": null,
   "metadata": {},
   "outputs": [],
   "source": []
  }
 ],
 "metadata": {
  "kernelspec": {
   "display_name": "Python 3.9.12 ('base')",
   "language": "python",
   "name": "python3"
  },
  "language_info": {
   "codemirror_mode": {
    "name": "ipython",
    "version": 3
   },
   "file_extension": ".py",
   "mimetype": "text/x-python",
   "name": "python",
   "nbconvert_exporter": "python",
   "pygments_lexer": "ipython3",
   "version": "3.9.12"
  },
  "orig_nbformat": 4,
  "vscode": {
   "interpreter": {
    "hash": "a077222d77dfe082b8f1dd562ad70e458ac2ab76993a0b248ab0476e32e9e8dd"
   }
  }
 },
 "nbformat": 4,
 "nbformat_minor": 2
}
